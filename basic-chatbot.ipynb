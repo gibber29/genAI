{
 "cells": [
  {
   "cell_type": "code",
   "execution_count": null,
   "id": "f9b2364a",
   "metadata": {
    "vscode": {
     "languageId": "plaintext"
    }
   },
   "outputs": [],
   "source": [
    "!pip install -qq tensorflow\n",
    "!pip install transformers==4.42.1 -U\n",
    "!pip install sentencepiece\n",
    "!pip install torch==2.2.2\n",
    "!pip install torchtext==0.17.2\n",
    "!pip install numpy==1.26"
   ]
  },
  {
   "cell_type": "code",
   "execution_count": null,
   "id": "f774a63f",
   "metadata": {
    "vscode": {
     "languageId": "plaintext"
    }
   },
   "outputs": [],
   "source": [
    "from transformers import AutoTokenizer, AutoModelForSeq2SeqLM\n",
    "\n",
    "model_name = \"facebook/blenderbot-400M-distill\"\n",
    "\n",
    "model = AutoModelForSeq2SeqLM.from_pretrained(model_name) #This line loads the pre-trained model. AutoModelForSeq2SeqLM is used because \"blenderbot-400M-distill\" is a sequence-to-sequence model, suitable for tasks like dialogue generation or translation. The from_pretrained() method downloads the model's weights and configuration from the Hugging Face Model Hub if they are not already cached.\n",
    "tokenizer = AutoTokenizer.from_pretrained(model_name)\n"
   ]
  },
  {
   "cell_type": "code",
   "execution_count": null,
   "id": "adf776fe",
   "metadata": {
    "vscode": {
     "languageId": "plaintext"
    }
   },
   "outputs": [],
   "source": [
    "def chat_with_bot():\n",
    "  while True:\n",
    "    input_text = input(\"you: \")\n",
    "    if input_text.lower() in [\"bye\",\"thanks\",\"thank you\",\"goodbye\"]:\n",
    "      print(\"chatbot: goodbye!\")\n",
    "      break\n",
    "    inputs = tokenizer.encode(input_text,return_tensors=\"pt\")\n",
    "    outputs = model.generate(inputs, max_new_tokens = 150)\n",
    "    response = tokenizer.decode(outputs[0], skip_special_tokens=True)\n",
    "    print(\"chatbot:\", response)\n",
    "chat_with_bot()"
   ]
  },
  {
   "cell_type": "code",
   "execution_count": null,
   "id": "97bb4687",
   "metadata": {
    "vscode": {
     "languageId": "plaintext"
    }
   },
   "outputs": [],
   "source": [
    "model_name2 = \"google/flan-t5-base\"\n",
    "model2 = AutoModelForSeq2SeqLM.from_pretrained(model_name2)\n",
    "tokenizer2 = AutoTokenizer.from_pretrained(model_name2)\n",
    "def chat_bot2():\n",
    "  while True: \n",
    "    input_text = input(\"you: \")\n",
    "    if input_text.lower() in [\"bye\",\"thanks\",\"exit\",\"quit\"]:\n",
    "      print(\"chatbot: goodbye!\")\n",
    "      break\n",
    "    inputs = tokenizer2.encode(input_text, return_tensors = \"pt\")\n",
    "    outputs = model2.generate(inputs,max_new_tokens = 150)\n",
    "    response = tokenizer2.decode(outputs[0], skip_special_tokens=True)\n",
    "    print(\"chatbot:\", response)\n",
    "chat_bot2()"
   ]
  },
  {
   "cell_type": "code",
   "execution_count": null,
   "id": "28c1b794",
   "metadata": {
    "vscode": {
     "languageId": "plaintext"
    }
   },
   "outputs": [],
   "source": [
    "from transformers import AutoTokenizer, AutoModelForCausalLM\n",
    "import torch\n",
    "\n",
    "# Load model and tokenizer\n",
    "tokenizer = AutoTokenizer.from_pretrained(\"google/gemma-3-270m\")\n",
    "model = AutoModelForCausalLM.from_pretrained(\"google/gemma-3-270m\")\n",
    "\n",
    "# Chat loop\n",
    "print(\"Chatbot ready! Type 'quit' to exit.\\n\")\n",
    "while True:\n",
    "    user_input = input(\"You: \")\n",
    "    if user_input.lower() == \"quit\":\n",
    "        break\n",
    "\n",
    "    # Encode input and generate response\n",
    "    inputs = tokenizer(user_input, return_tensors=\"pt\")\n",
    "    outputs = model.generate(\n",
    "        inputs[\"input_ids\"],\n",
    "        max_length=100,\n",
    "        do_sample=True,\n",
    "        top_p=0.9,\n",
    "        temperature=0.7,\n",
    "    )\n",
    "\n",
    "    response = tokenizer.decode(outputs[0], skip_special_tokens=True)\n",
    "    print(\"Bot:\", response)\n"
   ]
  },
  {
   "cell_type": "code",
   "execution_count": null,
   "id": "6601f664",
   "metadata": {
    "vscode": {
     "languageId": "plaintext"
    }
   },
   "outputs": [],
   "source": [
    "from huggingface_hub import notebook_login\n",
    "\n",
    "notebook_login()"
   ]
  }
 ],
 "metadata": {
  "language_info": {
   "name": "python"
  }
 },
 "nbformat": 4,
 "nbformat_minor": 5
}
